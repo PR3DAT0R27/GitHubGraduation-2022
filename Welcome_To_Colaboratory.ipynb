{
  "cells": [
    {
      "cell_type": "markdown",
      "metadata": {
        "id": "view-in-github",
        "colab_type": "text"
      },
      "source": [
        "<a href=\"https://colab.research.google.com/github/PR3DAT0R27/GitHubGraduation-2022/blob/main/Welcome_To_Colaboratory.ipynb\" target=\"_parent\"><img src=\"https://colab.research.google.com/assets/colab-badge.svg\" alt=\"Open In Colab\"/></a>"
      ]
    },
    {
      "cell_type": "code",
      "source": [
        "import pandas as pd\n",
        "data=pd.read_csv('/content/annual-enterprise-survey-2021-financial-year-provisional-csv.csv')\n",
        "print(data)"
      ],
      "metadata": {
        "id": "-h8l-biO5p-a",
        "outputId": "2ad49555-ade1-4159-fb71-7cee00357a0e",
        "colab": {
          "base_uri": "https://localhost:8080/"
        }
      },
      "execution_count": 4,
      "outputs": [
        {
          "output_type": "stream",
          "name": "stdout",
          "text": [
            "       Year Industry_aggregation_NZSIOC Industry_code_NZSIOC  \\\n",
            "0      2021                     Level 1                99999   \n",
            "1      2021                     Level 1                99999   \n",
            "2      2021                     Level 1                99999   \n",
            "3      2021                     Level 1                99999   \n",
            "4      2021                     Level 1                99999   \n",
            "...     ...                         ...                  ...   \n",
            "41710  2013                     Level 3                 ZZ11   \n",
            "41711  2013                     Level 3                 ZZ11   \n",
            "41712  2013                     Level 3                 ZZ11   \n",
            "41713  2013                     Level 3                 ZZ11   \n",
            "41714  2013                     Level 3                 ZZ11   \n",
            "\n",
            "             Industry_name_NZSIOC               Units Variable_code  \\\n",
            "0                  All industries  Dollars (millions)           H01   \n",
            "1                  All industries  Dollars (millions)           H04   \n",
            "2                  All industries  Dollars (millions)           H05   \n",
            "3                  All industries  Dollars (millions)           H07   \n",
            "4                  All industries  Dollars (millions)           H08   \n",
            "...                           ...                 ...           ...   \n",
            "41710  Food product manufacturing          Percentage           H37   \n",
            "41711  Food product manufacturing          Percentage           H38   \n",
            "41712  Food product manufacturing          Percentage           H39   \n",
            "41713  Food product manufacturing          Percentage           H40   \n",
            "41714  Food product manufacturing          Percentage           H41   \n",
            "\n",
            "                                         Variable_name      Variable_category  \\\n",
            "0                                         Total income  Financial performance   \n",
            "1      Sales, government funding, grants and subsidies  Financial performance   \n",
            "2                    Interest, dividends and donations  Financial performance   \n",
            "3                                 Non-operating income  Financial performance   \n",
            "4                                    Total expenditure  Financial performance   \n",
            "...                                                ...                    ...   \n",
            "41710                                      Quick ratio       Financial ratios   \n",
            "41711              Margin on sales of goods for resale       Financial ratios   \n",
            "41712                                 Return on equity       Financial ratios   \n",
            "41713                           Return on total assets       Financial ratios   \n",
            "41714                            Liabilities structure       Financial ratios   \n",
            "\n",
            "         Value                             Industry_code_ANZSIC06  \n",
            "0      757,504  ANZSIC06 divisions A-S (excluding classes K633...  \n",
            "1      674,890  ANZSIC06 divisions A-S (excluding classes K633...  \n",
            "2       49,593  ANZSIC06 divisions A-S (excluding classes K633...  \n",
            "3       33,020  ANZSIC06 divisions A-S (excluding classes K633...  \n",
            "4      654,404  ANZSIC06 divisions A-S (excluding classes K633...  \n",
            "...        ...                                                ...  \n",
            "41710       52  ANZSIC06 groups C111, C112, C113, C114, C115, ...  \n",
            "41711       40  ANZSIC06 groups C111, C112, C113, C114, C115, ...  \n",
            "41712       12  ANZSIC06 groups C111, C112, C113, C114, C115, ...  \n",
            "41713        5  ANZSIC06 groups C111, C112, C113, C114, C115, ...  \n",
            "41714       46  ANZSIC06 groups C111, C112, C113, C114, C115, ...  \n",
            "\n",
            "[41715 rows x 10 columns]\n"
          ]
        }
      ]
    },
    {
      "cell_type": "code",
      "source": [
        "import pandas as pd\n",
        "data=pd.read_excel('file.xlsx')\n",
        "print(data)"
      ],
      "metadata": {
        "id": "Du2s3yKdGtO0",
        "outputId": "2db28adb-93b0-4cea-8b21-2b798b9e172e",
        "colab": {
          "base_uri": "https://localhost:8080/"
        }
      },
      "execution_count": 6,
      "outputs": [
        {
          "output_type": "stream",
          "name": "stdout",
          "text": [
            "       Year Industry_aggregation_NZSIOC Industry_code_NZSIOC  \\\n",
            "0      2021                     Level 1                99999   \n",
            "1      2021                     Level 1                99999   \n",
            "2      2021                     Level 1                99999   \n",
            "3      2021                     Level 1                99999   \n",
            "4      2021                     Level 1                99999   \n",
            "...     ...                         ...                  ...   \n",
            "41710  2013                     Level 3                 ZZ11   \n",
            "41711  2013                     Level 3                 ZZ11   \n",
            "41712  2013                     Level 3                 ZZ11   \n",
            "41713  2013                     Level 3                 ZZ11   \n",
            "41714  2013                     Level 3                 ZZ11   \n",
            "\n",
            "             Industry_name_NZSIOC               Units Variable_code  \\\n",
            "0                  All industries  Dollars (millions)           H01   \n",
            "1                  All industries  Dollars (millions)           H04   \n",
            "2                  All industries  Dollars (millions)           H05   \n",
            "3                  All industries  Dollars (millions)           H07   \n",
            "4                  All industries  Dollars (millions)           H08   \n",
            "...                           ...                 ...           ...   \n",
            "41710  Food product manufacturing          Percentage           H37   \n",
            "41711  Food product manufacturing          Percentage           H38   \n",
            "41712  Food product manufacturing          Percentage           H39   \n",
            "41713  Food product manufacturing          Percentage           H40   \n",
            "41714  Food product manufacturing          Percentage           H41   \n",
            "\n",
            "                                         Variable_name      Variable_category  \\\n",
            "0                                         Total income  Financial performance   \n",
            "1      Sales, government funding, grants and subsidies  Financial performance   \n",
            "2                    Interest, dividends and donations  Financial performance   \n",
            "3                                 Non-operating income  Financial performance   \n",
            "4                                    Total expenditure  Financial performance   \n",
            "...                                                ...                    ...   \n",
            "41710                                      Quick ratio       Financial ratios   \n",
            "41711              Margin on sales of goods for resale       Financial ratios   \n",
            "41712                                 Return on equity       Financial ratios   \n",
            "41713                           Return on total assets       Financial ratios   \n",
            "41714                            Liabilities structure       Financial ratios   \n",
            "\n",
            "        Value                             Industry_code_ANZSIC06  \n",
            "0      757504  ANZSIC06 divisions A-S (excluding classes K633...  \n",
            "1      674890  ANZSIC06 divisions A-S (excluding classes K633...  \n",
            "2       49593  ANZSIC06 divisions A-S (excluding classes K633...  \n",
            "3       33020  ANZSIC06 divisions A-S (excluding classes K633...  \n",
            "4      654404  ANZSIC06 divisions A-S (excluding classes K633...  \n",
            "...       ...                                                ...  \n",
            "41710      52  ANZSIC06 groups C111, C112, C113, C114, C115, ...  \n",
            "41711      40  ANZSIC06 groups C111, C112, C113, C114, C115, ...  \n",
            "41712      12  ANZSIC06 groups C111, C112, C113, C114, C115, ...  \n",
            "41713       5  ANZSIC06 groups C111, C112, C113, C114, C115, ...  \n",
            "41714      46  ANZSIC06 groups C111, C112, C113, C114, C115, ...  \n",
            "\n",
            "[41715 rows x 10 columns]\n"
          ]
        }
      ]
    }
  ],
  "metadata": {
    "colab": {
      "name": "Welcome To Colaboratory",
      "provenance": [],
      "include_colab_link": true
    },
    "kernelspec": {
      "display_name": "Python 3",
      "name": "python3"
    }
  },
  "nbformat": 4,
  "nbformat_minor": 0
}